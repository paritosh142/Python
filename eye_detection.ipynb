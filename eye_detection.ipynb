{
 "cells": [
  {
   "cell_type": "code",
   "execution_count": 3,
   "metadata": {},
   "outputs": [],
   "source": [
    "import cv2\n",
    "import numpy as np\n",
    "import mediapipe as mp"
   ]
  },
  {
   "cell_type": "code",
   "execution_count": 4,
   "metadata": {},
   "outputs": [],
   "source": [
    "mp_face_detection = mp.solutions.face_detection\n",
    "mp_fave_mesh = mp.solutions.face_mesh\n",
    "mp_drawing = mp.solutions.drawing_utils\n"
   ]
  },
  {
   "cell_type": "code",
   "execution_count": 5,
   "metadata": {},
   "outputs": [],
   "source": [
    "mp_drawing_styles = mp.solutions.drawing_styles\n"
   ]
  },
  {
   "cell_type": "code",
   "execution_count": 6,
   "metadata": {},
   "outputs": [],
   "source": [
    "face_mesh = mp_fave_mesh.FaceMesh(static_image_mode=True, max_num_faces=1, min_detection_confidence=0.5)"
   ]
  },
  {
   "cell_type": "code",
   "execution_count": 7,
   "metadata": {},
   "outputs": [],
   "source": [
    "face_detection = mp_face_detection.FaceDetection(min_detection_confidence=0.5)"
   ]
  },
  {
   "cell_type": "code",
   "execution_count": 8,
   "metadata": {},
   "outputs": [
    {
     "name": "stderr",
     "output_type": "stream",
     "text": [
      "c:\\Users\\om\\AppData\\Local\\Programs\\Python\\Python312\\Lib\\site-packages\\google\\protobuf\\symbol_database.py:55: UserWarning: SymbolDatabase.GetPrototype() is deprecated. Please use message_factory.GetMessageClass() instead. SymbolDatabase.GetPrototype() will be removed soon.\n",
      "  warnings.warn('SymbolDatabase.GetPrototype() is deprecated. Please '\n"
     ]
    }
   ],
   "source": [
    "cap = cv2.VideoCapture(0)\n",
    "\n",
    "while cap.isOpened():\n",
    "    ret, frame = cap.read()\n",
    "    if not ret:\n",
    "        print(\"Ignoring empty camera frame.\")\n",
    "        continue\n",
    "    \n",
    "    # Convert the BGR image to RGB\n",
    "    rgb_frame = cv2.cvtColor(frame, cv2.COLOR_BGR2RGB)\n",
    "    \n",
    "    # Process the frame and find face landmarks\n",
    "    result = face_mesh.process(rgb_frame)\n",
    "    \n",
    "    # Draw the face landmarks\n",
    "    if result.multi_face_landmarks:\n",
    "        for face_landmarks in result.multi_face_landmarks:\n",
    "            mp_drawing.draw_landmarks(\n",
    "                image=frame,\n",
    "                landmark_list=face_landmarks,\n",
    "                connections=mp_fave_mesh.FACEMESH_TESSELATION,\n",
    "                landmark_drawing_spec=None,\n",
    "                connection_drawing_spec=mp_drawing_styles\n",
    "                    .get_default_face_mesh_tesselation_style())\n",
    "    \n",
    "    # Show the frame with landmarks\n",
    "    cv2.imshow('MediaPipe FaceMesh', frame)\n",
    "    \n",
    "    if cv2.waitKey(5) & 0xFF == 27:\n",
    "        break\n",
    "\n",
    "cap.release()\n",
    "cv2.destroyAllWindows()"
   ]
  },
  {
   "cell_type": "code",
   "execution_count": 9,
   "metadata": {},
   "outputs": [],
   "source": [
    "LEFT_EYE_LANDMARKS = [33 , 160 , 158 , 133 , 153 , 144]\n",
    "RIGHT_EYE_LANDMARKS = [362 , 385 , 387 , 384 , 263 , 373]"
   ]
  },
  {
   "cell_type": "code",
   "execution_count": 10,
   "metadata": {},
   "outputs": [],
   "source": [
    "def get_eye_center(landmarks , img_shape): \n",
    "    x_coords = [landmarks[i].x for i in range(len(landmarks))]\n",
    "    y_coords = [landmarks[i].y for i in range(len(landmarks))]\n",
    "\n",
    "    x_center = int(np.mean(x_coords) * img_shape[1])\n",
    "    y_center = int(np.mean(y_coords) * img_shape[0])\n",
    "\n",
    "    return (x_center , y_center)"
   ]
  },
  {
   "cell_type": "code",
   "execution_count": 13,
   "metadata": {},
   "outputs": [],
   "source": [
    "cap = cv2.VideoCapture(0)\n",
    "\n",
    "def get_eye_center(landmarks, img_shape):\n",
    "    x_coords = [landmarks[i][0] for i in range(len(landmarks))]\n",
    "    y_coords = [landmarks[i][1] for i in range(len(landmarks))]\n",
    "    \n",
    "    eye_center_x = int(np.mean(x_coords))\n",
    "    eye_center_y = int(np.mean(y_coords))\n",
    "    \n",
    "    return (eye_center_x, eye_center_y)\n",
    "\n",
    "while cap.isOpened():\n",
    "    ret, frame = cap.read()\n",
    "    if not ret:\n",
    "        print(\"Ignoring empty camera frame.\")\n",
    "        continue\n",
    "\n",
    "    rgb_frame = cv2.cvtColor(frame, cv2.COLOR_BGR2RGB)\n",
    "    result = face_mesh.process(rgb_frame)\n",
    "    \n",
    "    if result.multi_face_landmarks:\n",
    "        for face_landmarks in result.multi_face_landmarks:\n",
    "            landmarks = face_landmarks.landmark\n",
    "            height, width, _ = frame.shape\n",
    "            \n",
    "            left_eye = [(int(landmarks[idx].x * width), int(landmarks[idx].y * height)) for idx in LEFT_EYE_LANDMARKS]\n",
    "            right_eye = [(int(landmarks[idx].x * width), int(landmarks[idx].y * height)) for idx in RIGHT_EYE_LANDMARKS]\n",
    "            \n",
    "            left_eye_center = get_eye_center(left_eye, frame.shape)\n",
    "            right_eye_center = get_eye_center(right_eye, frame.shape)\n",
    "            \n",
    "            cv2.circle(frame, left_eye_center, 3, (0, 255, 0), -1)\n",
    "            cv2.circle(frame, right_eye_center, 3, (0, 255, 0), -1)\n",
    "            \n",
    "            # Calculate the gaze direction based on the eye centers\n",
    "            if left_eye_center[0] < width // 3:\n",
    "                if left_eye_center[1] < height // 3:\n",
    "                    gaze_direction = \"Looking Top-Left\"\n",
    "                elif left_eye_center[1] > 2 * height // 3:\n",
    "                    gaze_direction = \"Looking Bottom-Left\"\n",
    "                else:\n",
    "                    gaze_direction = \"Looking Left\"\n",
    "            elif left_eye_center[0] > 2 * width // 3:\n",
    "                if left_eye_center[1] < height // 3:\n",
    "                    gaze_direction = \"Looking Top-Right\"\n",
    "                elif left_eye_center[1] > 2 * height // 3:\n",
    "                    gaze_direction = \"Looking Bottom-Right\"\n",
    "                else:\n",
    "                    gaze_direction = \"Looking Right\"\n",
    "            else:\n",
    "                if left_eye_center[1] < height // 3:\n",
    "                    gaze_direction = \"Looking Up\"\n",
    "                elif left_eye_center[1] > 2 * height // 3:\n",
    "                    gaze_direction = \"Looking Down\"\n",
    "                else:\n",
    "                    gaze_direction = \"Looking Straight\"\n",
    "\n",
    "            # Detect unusual movements\n",
    "            if abs(left_eye_center[0] - right_eye_center[0]) > width * 0.1 or abs(left_eye_center[1] - right_eye_center[1]) > height * 0.1:\n",
    "                unusual_movement = \"Unusual Eye Movement Detected\"\n",
    "            else:\n",
    "                unusual_movement = \"Normal Eye Movement\"\n",
    "\n",
    "            # Display the gaze direction and unusual movement status\n",
    "            cv2.putText(frame, f'Gaze: {gaze_direction}', (50, 50), cv2.FONT_HERSHEY_SIMPLEX, 1, (0, 255, 0), 2)\n",
    "            cv2.putText(frame, unusual_movement, (50, 100), cv2.FONT_HERSHEY_SIMPLEX, 1, (0, 0, 255), 2)\n",
    "            \n",
    "            cv2.putText(frame, f'Gaze: {gaze_direction}', (50, 50), cv2.FONT_HERSHEY_SIMPLEX, 1, (0, 255, 0), 2)\n",
    "    \n",
    "    cv2.imshow('Gaze Tracking', frame)\n",
    "    \n",
    "    if cv2.waitKey(5) & 0xFF == 27:\n",
    "        break\n",
    "\n",
    "cap.release()\n",
    "cv2.destroyAllWindows()\n"
   ]
  },
  {
   "cell_type": "code",
   "execution_count": null,
   "metadata": {},
   "outputs": [],
   "source": []
  }
 ],
 "metadata": {
  "kernelspec": {
   "display_name": "Python 3",
   "language": "python",
   "name": "python3"
  },
  "language_info": {
   "codemirror_mode": {
    "name": "ipython",
    "version": 3
   },
   "file_extension": ".py",
   "mimetype": "text/x-python",
   "name": "python",
   "nbconvert_exporter": "python",
   "pygments_lexer": "ipython3",
   "version": "3.12.7"
  }
 },
 "nbformat": 4,
 "nbformat_minor": 2
}
