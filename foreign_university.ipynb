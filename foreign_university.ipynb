{
 "cells": [
  {
   "cell_type": "code",
   "execution_count": 1,
   "metadata": {},
   "outputs": [
    {
     "name": "stderr",
     "output_type": "stream",
     "text": [
      "c:\\Users\\om\\AppData\\Local\\Programs\\Python\\Python312\\Lib\\site-packages\\tqdm\\auto.py:21: TqdmWarning: IProgress not found. Please update jupyter and ipywidgets. See https://ipywidgets.readthedocs.io/en/stable/user_install.html\n",
      "  from .autonotebook import tqdm as notebook_tqdm\n"
     ]
    }
   ],
   "source": [
    "from gemini import chat_session"
   ]
  },
  {
   "cell_type": "code",
   "execution_count": 14,
   "metadata": {},
   "outputs": [],
   "source": [
    "foreign_university_examples = \"\"\"\n",
    "Motivation for the Course and Career Progression:\n",
    "1. What specifically interests you about this course, and how does it align with your career progression?\n",
    "2. Can you describe your current professional engagement and how this course will enhance your skills?\n",
    "3. What are your future aspirations, and how does this course fit into your long-term career plans?\n",
    "\n",
    "Research on Program and University Choice:\n",
    "1. What do you know about the content of this course, and how does it compare to similar programs at other universities?\n",
    "2. Why did you choose this particular university and location for your studies?\n",
    "3. What factors influenced your decision to apply to this program?\n",
    "\n",
    "Decision to Study in the UK:\n",
    "1. Why did you choose the UK as your study destination over other countries?\n",
    "2. What aspects of the UK’s educational offerings appealed to you the most?\n",
    "3. How do you think studying in the UK will benefit your personal and professional development?\n",
    "\n",
    "Program Content Knowledge and Preparedness:\n",
    "1. Can you discuss specific modules of the course that excite you and why?\n",
    "2. What do you know about the assessments and credit requirements for this program?\n",
    "3. How have you prepared yourself for the academic challenges of this course?\n",
    "\n",
    "Future Career Goals and Alignment with the Course:\n",
    "1. What are your career goals post-completion of this course?\n",
    "2. How do you see this course helping you achieve those goals?\n",
    "3. Are you considering roles in specific industries or entrepreneurship after graduation?\n",
    "\n",
    "Recent Activities Since Last Qualification:\n",
    "1. What was your last qualification, and what have you been doing since then?\n",
    "2. How do your recent activities align with your goals for pursuing further studies?\n",
    "3. Can you provide examples of how your recent experiences have prepared you for this course?\n",
    "\n",
    "Accommodation Plans and Student Life:\n",
    "1. What are your plans for accommodation during your studies?\n",
    "2. How familiar are you with student life at this university?\n",
    "3. What aspects of student life are you most looking forward to?\n",
    "\n",
    "Financial Preparedness and Sponsorship:\n",
    "1. What are your plans for funding your tuition and living expenses?\n",
    "2. Do you have any sponsorship details you can share?\n",
    "3. How have you budgeted for your studies in the UK?\n",
    "\"\"\"\n",
    "\n",
    "\n"
   ]
  },
  {
   "cell_type": "code",
   "execution_count": 39,
   "metadata": {},
   "outputs": [
    {
     "name": "stdout",
     "output_type": "stream",
     "text": [
      "[\n",
      "  {\n",
      "    \"question_number\": 1,\n",
      "    \"question\": \"What specifically interests you about this course, and how does it align with your career progression?\"\n",
      "  },\n",
      "  {\n",
      "    \"question_number\": 2,\n",
      "    \"question\": \"Can you describe your current professional engagement and how this course will enhance your skills?\"\n",
      "  },\n",
      "  {\n",
      "    \"question_number\": 3,\n",
      "    \"question\": \"What are your future aspirations, and how does this course fit into your long-term career plans?\"\n",
      "  },\n",
      "  {\n",
      "    \"question_number\": 4,\n",
      "    \"question\": \"What do you know about the content of this course, and how does it compare to similar programs at other universities?\"\n",
      "  },\n",
      "  {\n",
      "    \"question_number\": 5,\n",
      "    \"question\": \"Why did you choose this particular university and location for your studies?\"\n",
      "  },\n",
      "  {\n",
      "    \"question_number\": 6,\n",
      "    \"question\": \"What factors influenced your decision to apply to this program?\"\n",
      "  },\n",
      "  {\n",
      "    \"question_number\": 7,\n",
      "    \"question\": \"Can you discuss specific modules of the course that excite you and why?\"\n",
      "  },\n",
      "  {\n",
      "    \"question_number\": 8,\n",
      "    \"question\": \"What do you know about the assessments and credit requirements for this program?\"\n",
      "  },\n",
      "  {\n",
      "    \"question_number\": 9,\n",
      "    \"question\": \"How have you prepared yourself for the academic challenges of this course?\"\n",
      "  },\n",
      "  {\n",
      "    \"question_number\": 10,\n",
      "    \"question\": \"What are your career goals post-completion of this course? How do you see this course helping you achieve those goals?\"\n",
      "  },\n",
      "  {\n",
      "    \"question_number\": 11,\n",
      "    \"question\": \"Are you considering roles in specific industries or entrepreneurship after graduation?\"\n",
      "  },\n",
      "  {\n",
      "    \"question_number\": 12,\n",
      "    \"question\": \"What was your last qualification, and what have you been doing since then? How do your recent activities align with your goals for pursuing further studies?\"\n",
      "  },\n",
      "  {\n",
      "    \"question_number\": 13,\n",
      "    \"question\": \"Can you provide examples of how your recent experiences have prepared you for this course?\"\n",
      "  },\n",
      "  {\n",
      "    \"question_number\": 14,\n",
      "    \"question\": \"What are your plans for accommodation during your studies? How familiar are you with student life at this university?\"\n",
      "  },\n",
      "  {\n",
      "    \"question_number\": 15,\n",
      "    \"question\": \"What aspects of student life are you most looking forward to? What are your plans for funding your tuition and living expenses? Do you have any sponsorship details you can share?\"\n",
      "  }\n",
      "]\n"
     ]
    }
   ],
   "source": [
    "def foreign_university_admission_prompt(profile_description: str, university_criteria: str, country: str) -> str:\n",
    "    prompt = (\n",
    "        f\"Craft 10 to 15 realistic, high-stakes admission interview questions for a prospective university candidate seeking admission to foreign universities. \"\n",
    "        f\"Design questions that assess the candidate’s motivation, knowledge of the program, and preparedness for study in the {country}. \"\n",
    "        f\"Use the following profile for context: {profile_description} and also {university_criteria}. \"\n",
    "        f\"Ensure that the questions are relevant, engaging, and reflective of the admission criteria for the university. \"\n",
    "        f\"50% questions should be like the following questions: {foreign_university_examples}\"\n",
    "        \"Generate questions and question number in JSON format, without any additional text.\"\n",
    "    )\n",
    "\n",
    "    try:\n",
    "        response = chat_session.send_message(prompt)\n",
    "        questions = response.text.replace(\"```json\" , \"\").replace(\"```\" , \"\") if hasattr(response, \"text\") else None\n",
    "\n",
    "        if questions:\n",
    "            return questions.strip()\n",
    "        else:\n",
    "            return \"No questions generated.\"\n",
    "    except Exception as e:\n",
    "        return f\"An error occurred: {e}\"\n",
    "\n",
    "if __name__ == \"__main__\":\n",
    "    # Sample profile description and university criteria\n",
    "    profile_description = \"A recent graduate in Environmental Science with a keen interest in sustainable development and international policy.\"\n",
    "    university_criteria = \"Looking for candidates with a strong academic background and relevant experience in environmental issues.\"\n",
    "    country = \"USA\"\n",
    "\n",
    "    # Generate the admission prompt\n",
    "    admission_QUESTIONS = foreign_university_admission_prompt(profile_description, university_criteria, country)\n",
    "    print(admission_QUESTIONS)\n",
    "\n"
   ]
  },
  {
   "cell_type": "code",
   "execution_count": 40,
   "metadata": {},
   "outputs": [
    {
     "name": "stdout",
     "output_type": "stream",
     "text": [
      "Question 1: What specifically interests you about this course, and how does it align with your career progression?\n",
      "Question 2: Can you describe your current professional engagement and how this course will enhance your skills?\n",
      "Question 3: What are your future aspirations, and how does this course fit into your long-term career plans?\n",
      "Question 4: What do you know about the content of this course, and how does it compare to similar programs at other universities?\n",
      "Question 5: Why did you choose this particular university and location for your studies?\n",
      "Question 6: What factors influenced your decision to apply to this program?\n",
      "Question 7: Can you discuss specific modules of the course that excite you and why?\n",
      "Question 8: What do you know about the assessments and credit requirements for this program?\n",
      "Question 9: How have you prepared yourself for the academic challenges of this course?\n",
      "Question 10: What are your career goals post-completion of this course? How do you see this course helping you achieve those goals?\n",
      "Question 11: Are you considering roles in specific industries or entrepreneurship after graduation?\n",
      "Question 12: What was your last qualification, and what have you been doing since then? How do your recent activities align with your goals for pursuing further studies?\n",
      "Question 13: Can you provide examples of how your recent experiences have prepared you for this course?\n",
      "Question 14: What are your plans for accommodation during your studies? How familiar are you with student life at this university?\n",
      "Question 15: What aspects of student life are you most looking forward to? What are your plans for funding your tuition and living expenses? Do you have any sponsorship details you can share?\n"
     ]
    }
   ],
   "source": [
    "import json\n",
    "\n",
    "# Parse the JSON string\n",
    "questions_data = json.loads(admission_QUESTIONS)\n",
    "\n",
    "# Display the questions\n",
    "for question in questions_data:\n",
    "    print(f\"Question {question['question_number']}: {question['question']}\")"
   ]
  },
  {
   "cell_type": "code",
   "execution_count": null,
   "metadata": {},
   "outputs": [],
   "source": []
  }
 ],
 "metadata": {
  "kernelspec": {
   "display_name": "Python 3",
   "language": "python",
   "name": "python3"
  },
  "language_info": {
   "codemirror_mode": {
    "name": "ipython",
    "version": 3
   },
   "file_extension": ".py",
   "mimetype": "text/x-python",
   "name": "python",
   "nbconvert_exporter": "python",
   "pygments_lexer": "ipython3",
   "version": "3.12.7"
  }
 },
 "nbformat": 4,
 "nbformat_minor": 2
}
