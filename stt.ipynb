{
 "cells": [
  {
   "cell_type": "code",
   "execution_count": 1,
   "metadata": {},
   "outputs": [
    {
     "name": "stdout",
     "output_type": "stream",
     "text": [
      "Requirement already satisfied: pyaudio in c:\\users\\om\\appdata\\local\\programs\\python\\python312\\lib\\site-packages (0.2.14)\n",
      "Requirement already satisfied: numpy in c:\\users\\om\\appdata\\local\\programs\\python\\python312\\lib\\site-packages (1.26.4)\n",
      "Requirement already satisfied: scipy in c:\\users\\om\\appdata\\local\\programs\\python\\python312\\lib\\site-packages (1.14.1)\n",
      "Note: you may need to restart the kernel to use updated packages.\n"
     ]
    },
    {
     "name": "stderr",
     "output_type": "stream",
     "text": [
      "\n",
      "[notice] A new release of pip is available: 24.2 -> 24.3.1\n",
      "[notice] To update, run: python.exe -m pip install --upgrade pip\n"
     ]
    }
   ],
   "source": [
    "%pip install pyaudio numpy scipy"
   ]
  },
  {
   "cell_type": "code",
   "execution_count": 2,
   "metadata": {},
   "outputs": [
    {
     "name": "stdout",
     "output_type": "stream",
     "text": [
      "Collecting vosk\n",
      "  Downloading vosk-0.3.45-py3-none-win_amd64.whl.metadata (1.8 kB)\n",
      "Requirement already satisfied: cffi>=1.0 in c:\\users\\om\\appdata\\local\\programs\\python\\python312\\lib\\site-packages (from vosk) (1.17.1)\n",
      "Requirement already satisfied: requests in c:\\users\\om\\appdata\\local\\programs\\python\\python312\\lib\\site-packages (from vosk) (2.32.3)\n",
      "Collecting srt (from vosk)\n",
      "  Downloading srt-3.5.3.tar.gz (28 kB)\n",
      "  Preparing metadata (setup.py): started\n",
      "  Preparing metadata (setup.py): finished with status 'done'\n",
      "Requirement already satisfied: tqdm in c:\\users\\om\\appdata\\local\\programs\\python\\python312\\lib\\site-packages (from vosk) (4.66.5)\n",
      "Requirement already satisfied: websockets in c:\\users\\om\\appdata\\local\\programs\\python\\python312\\lib\\site-packages (from vosk) (12.0)\n",
      "Requirement already satisfied: pycparser in c:\\users\\om\\appdata\\local\\programs\\python\\python312\\lib\\site-packages (from cffi>=1.0->vosk) (2.22)\n",
      "Requirement already satisfied: charset-normalizer<4,>=2 in c:\\users\\om\\appdata\\local\\programs\\python\\python312\\lib\\site-packages (from requests->vosk) (3.4.0)\n",
      "Requirement already satisfied: idna<4,>=2.5 in c:\\users\\om\\appdata\\local\\programs\\python\\python312\\lib\\site-packages (from requests->vosk) (3.10)\n",
      "Requirement already satisfied: urllib3<3,>=1.21.1 in c:\\users\\om\\appdata\\local\\programs\\python\\python312\\lib\\site-packages (from requests->vosk) (2.2.3)\n",
      "Requirement already satisfied: certifi>=2017.4.17 in c:\\users\\om\\appdata\\local\\programs\\python\\python312\\lib\\site-packages (from requests->vosk) (2024.8.30)\n",
      "Requirement already satisfied: colorama in c:\\users\\om\\appdata\\local\\programs\\python\\python312\\lib\\site-packages (from tqdm->vosk) (0.4.6)\n",
      "Downloading vosk-0.3.45-py3-none-win_amd64.whl (14.0 MB)\n",
      "   ---------------------------------------- 0.0/14.0 MB ? eta -:--:--\n",
      "   ------ --------------------------------- 2.4/14.0 MB 12.2 MB/s eta 0:00:01\n",
      "   ---------------- ----------------------- 5.8/14.0 MB 14.1 MB/s eta 0:00:01\n",
      "   ------------------------- -------------- 8.9/14.0 MB 14.2 MB/s eta 0:00:01\n",
      "   ----------------------------------- ---- 12.3/14.0 MB 14.6 MB/s eta 0:00:01\n",
      "   ---------------------------------------- 14.0/14.0 MB 14.6 MB/s eta 0:00:00\n",
      "Building wheels for collected packages: srt\n",
      "  Building wheel for srt (setup.py): started\n",
      "  Building wheel for srt (setup.py): finished with status 'done'\n",
      "  Created wheel for srt: filename=srt-3.5.3-py3-none-any.whl size=22557 sha256=63de34f7b19e88dc547a74a7e3512055c27a7ef19c1ba447e33db9e8cb45bcda\n",
      "  Stored in directory: c:\\users\\om\\appdata\\local\\pip\\cache\\wheels\\7e\\75\\5b\\e1d5c3756631e4bda806f6cc9640153b39484bb6f7b0b8def3\n",
      "Successfully built srt\n",
      "Installing collected packages: srt, vosk\n",
      "Successfully installed srt-3.5.3 vosk-0.3.45\n",
      "Note: you may need to restart the kernel to use updated packages.\n"
     ]
    },
    {
     "name": "stderr",
     "output_type": "stream",
     "text": [
      "\n",
      "[notice] A new release of pip is available: 24.2 -> 24.3.1\n",
      "[notice] To update, run: python.exe -m pip install --upgrade pip\n"
     ]
    }
   ],
   "source": [
    "%pip install vosk "
   ]
  },
  {
   "cell_type": "code",
   "execution_count": 3,
   "metadata": {},
   "outputs": [
    {
     "name": "stdout",
     "output_type": "stream",
     "text": [
      "Requirement already satisfied: transformers in c:\\users\\om\\appdata\\local\\programs\\python\\python312\\lib\\site-packages (4.46.1)\n",
      "Requirement already satisfied: torchaudio in c:\\users\\om\\appdata\\local\\programs\\python\\python312\\lib\\site-packages (2.5.1)\n",
      "Requirement already satisfied: filelock in c:\\users\\om\\appdata\\local\\programs\\python\\python312\\lib\\site-packages (from transformers) (3.16.1)\n",
      "Requirement already satisfied: huggingface-hub<1.0,>=0.23.2 in c:\\users\\om\\appdata\\local\\programs\\python\\python312\\lib\\site-packages (from transformers) (0.26.2)\n",
      "Requirement already satisfied: numpy>=1.17 in c:\\users\\om\\appdata\\local\\programs\\python\\python312\\lib\\site-packages (from transformers) (1.26.4)\n",
      "Requirement already satisfied: packaging>=20.0 in c:\\users\\om\\appdata\\local\\programs\\python\\python312\\lib\\site-packages (from transformers) (24.1)\n",
      "Requirement already satisfied: pyyaml>=5.1 in c:\\users\\om\\appdata\\local\\programs\\python\\python312\\lib\\site-packages (from transformers) (6.0.2)\n",
      "Requirement already satisfied: regex!=2019.12.17 in c:\\users\\om\\appdata\\local\\programs\\python\\python312\\lib\\site-packages (from transformers) (2024.9.11)\n",
      "Requirement already satisfied: requests in c:\\users\\om\\appdata\\local\\programs\\python\\python312\\lib\\site-packages (from transformers) (2.32.3)\n",
      "Requirement already satisfied: safetensors>=0.4.1 in c:\\users\\om\\appdata\\local\\programs\\python\\python312\\lib\\site-packages (from transformers) (0.4.5)\n",
      "Requirement already satisfied: tokenizers<0.21,>=0.20 in c:\\users\\om\\appdata\\local\\programs\\python\\python312\\lib\\site-packages (from transformers) (0.20.1)\n",
      "Requirement already satisfied: tqdm>=4.27 in c:\\users\\om\\appdata\\local\\programs\\python\\python312\\lib\\site-packages (from transformers) (4.66.5)\n",
      "Requirement already satisfied: torch==2.5.1 in c:\\users\\om\\appdata\\local\\programs\\python\\python312\\lib\\site-packages (from torchaudio) (2.5.1)\n",
      "Requirement already satisfied: typing-extensions>=4.8.0 in c:\\users\\om\\appdata\\local\\programs\\python\\python312\\lib\\site-packages (from torch==2.5.1->torchaudio) (4.12.2)\n",
      "Requirement already satisfied: networkx in c:\\users\\om\\appdata\\local\\programs\\python\\python312\\lib\\site-packages (from torch==2.5.1->torchaudio) (3.4.2)\n",
      "Requirement already satisfied: jinja2 in c:\\users\\om\\appdata\\local\\programs\\python\\python312\\lib\\site-packages (from torch==2.5.1->torchaudio) (3.1.4)\n",
      "Requirement already satisfied: fsspec in c:\\users\\om\\appdata\\local\\programs\\python\\python312\\lib\\site-packages (from torch==2.5.1->torchaudio) (2024.10.0)\n",
      "Requirement already satisfied: setuptools in c:\\users\\om\\appdata\\local\\programs\\python\\python312\\lib\\site-packages (from torch==2.5.1->torchaudio) (75.2.0)\n",
      "Requirement already satisfied: sympy==1.13.1 in c:\\users\\om\\appdata\\local\\programs\\python\\python312\\lib\\site-packages (from torch==2.5.1->torchaudio) (1.13.1)\n",
      "Requirement already satisfied: mpmath<1.4,>=1.1.0 in c:\\users\\om\\appdata\\local\\programs\\python\\python312\\lib\\site-packages (from sympy==1.13.1->torch==2.5.1->torchaudio) (1.3.0)\n",
      "Requirement already satisfied: colorama in c:\\users\\om\\appdata\\local\\programs\\python\\python312\\lib\\site-packages (from tqdm>=4.27->transformers) (0.4.6)\n",
      "Requirement already satisfied: charset-normalizer<4,>=2 in c:\\users\\om\\appdata\\local\\programs\\python\\python312\\lib\\site-packages (from requests->transformers) (3.4.0)\n",
      "Requirement already satisfied: idna<4,>=2.5 in c:\\users\\om\\appdata\\local\\programs\\python\\python312\\lib\\site-packages (from requests->transformers) (3.10)\n",
      "Requirement already satisfied: urllib3<3,>=1.21.1 in c:\\users\\om\\appdata\\local\\programs\\python\\python312\\lib\\site-packages (from requests->transformers) (2.2.3)\n",
      "Requirement already satisfied: certifi>=2017.4.17 in c:\\users\\om\\appdata\\local\\programs\\python\\python312\\lib\\site-packages (from requests->transformers) (2024.8.30)\n",
      "Requirement already satisfied: MarkupSafe>=2.0 in c:\\users\\om\\appdata\\local\\programs\\python\\python312\\lib\\site-packages (from jinja2->torch==2.5.1->torchaudio) (2.1.5)\n",
      "Note: you may need to restart the kernel to use updated packages.\n"
     ]
    },
    {
     "name": "stderr",
     "output_type": "stream",
     "text": [
      "\n",
      "[notice] A new release of pip is available: 24.2 -> 24.3.1\n",
      "[notice] To update, run: python.exe -m pip install --upgrade pip\n"
     ]
    }
   ],
   "source": [
    "%pip install transformers torchaudio"
   ]
  },
  {
   "cell_type": "code",
   "execution_count": 4,
   "metadata": {},
   "outputs": [],
   "source": [
    "import pyaudio"
   ]
  },
  {
   "cell_type": "code",
   "execution_count": 5,
   "metadata": {},
   "outputs": [],
   "source": [
    "CHUNK = 1024\n",
    "FORMAT = pyaudio.paInt16\n",
    "CHANNELS = 1\n",
    "RATE = 16000"
   ]
  },
  {
   "cell_type": "code",
   "execution_count": 6,
   "metadata": {},
   "outputs": [],
   "source": [
    "audio = pyaudio.PyAudio()\n",
    "\n",
    "stream = audio.open(format=FORMAT, channels=CHANNELS,rate = RATE, input=True,frames_per_buffer=CHUNK)"
   ]
  },
  {
   "cell_type": "code",
   "execution_count": 10,
   "metadata": {},
   "outputs": [],
   "source": [
    "from vosk import Model, KaldiRecognizer\n",
    "import json\n",
    "\n",
    "model = Model(r\".\\vosk-model-en-us-0.22\")\n"
   ]
  },
  {
   "cell_type": "code",
   "execution_count": 11,
   "metadata": {},
   "outputs": [],
   "source": [
    "recognizer =  KaldiRecognizer(model, RATE)"
   ]
  },
  {
   "cell_type": "code",
   "execution_count": 12,
   "metadata": {},
   "outputs": [
    {
     "name": "stderr",
     "output_type": "stream",
     "text": [
      "c:\\Users\\om\\AppData\\Local\\Programs\\Python\\Python312\\Lib\\site-packages\\tqdm\\auto.py:21: TqdmWarning: IProgress not found. Please update jupyter and ipywidgets. See https://ipywidgets.readthedocs.io/en/stable/user_install.html\n",
      "  from .autonotebook import tqdm as notebook_tqdm\n"
     ]
    }
   ],
   "source": [
    "from transformers import Wav2Vec2ForCTC, Wav2Vec2Processor\n"
   ]
  },
  {
   "cell_type": "code",
   "execution_count": 13,
   "metadata": {},
   "outputs": [],
   "source": [
    "import torch "
   ]
  },
  {
   "cell_type": "code",
   "execution_count": 14,
   "metadata": {},
   "outputs": [
    {
     "name": "stderr",
     "output_type": "stream",
     "text": [
      "Some weights of Wav2Vec2ForCTC were not initialized from the model checkpoint at facebook/wav2vec2-base-960h and are newly initialized: ['wav2vec2.masked_spec_embed']\n",
      "You should probably TRAIN this model on a down-stream task to be able to use it for predictions and inference.\n"
     ]
    }
   ],
   "source": [
    "processor  = Wav2Vec2Processor.from_pretrained(\"facebook/wav2vec2-base-960h\")\n",
    "model = Wav2Vec2ForCTC.from_pretrained(\"facebook/wav2vec2-base-960h\")"
   ]
  },
  {
   "cell_type": "code",
   "execution_count": 15,
   "metadata": {},
   "outputs": [],
   "source": [
    "import wave \n",
    "import numpy as np "
   ]
  },
  {
   "cell_type": "code",
   "execution_count": 18,
   "metadata": {},
   "outputs": [
    {
     "name": "stdout",
     "output_type": "stream",
     "text": [
      "Start Speaking...\n",
      "Text : the\n",
      "Text : the\n"
     ]
    },
    {
     "ename": "KeyboardInterrupt",
     "evalue": "",
     "output_type": "error",
     "traceback": [
      "\u001b[1;31m---------------------------------------------------------------------------\u001b[0m",
      "\u001b[1;31mKeyboardInterrupt\u001b[0m                         Traceback (most recent call last)",
      "Cell \u001b[1;32mIn[18], line 6\u001b[0m\n\u001b[0;32m      3\u001b[0m \u001b[38;5;28;01mwhile\u001b[39;00m \u001b[38;5;28;01mTrue\u001b[39;00m: \n\u001b[0;32m      4\u001b[0m     data  \u001b[38;5;241m=\u001b[39m stream\u001b[38;5;241m.\u001b[39mread(CHUNK)\n\u001b[1;32m----> 6\u001b[0m     \u001b[38;5;28;01mif\u001b[39;00m \u001b[43mrecognizer\u001b[49m\u001b[38;5;241;43m.\u001b[39;49m\u001b[43mAcceptWaveform\u001b[49m\u001b[43m(\u001b[49m\u001b[43mdata\u001b[49m\u001b[43m)\u001b[49m:\n\u001b[0;32m      7\u001b[0m         result \u001b[38;5;241m=\u001b[39m recognizer\u001b[38;5;241m.\u001b[39mResult()\n\u001b[0;32m      8\u001b[0m         text \u001b[38;5;241m=\u001b[39m json\u001b[38;5;241m.\u001b[39mloads(result)\u001b[38;5;241m.\u001b[39mget(\u001b[38;5;124m'\u001b[39m\u001b[38;5;124mtext\u001b[39m\u001b[38;5;124m'\u001b[39m , \u001b[38;5;124m'\u001b[39m\u001b[38;5;124m'\u001b[39m)\n",
      "File \u001b[1;32mc:\\Users\\om\\AppData\\Local\\Programs\\Python\\Python312\\Lib\\site-packages\\vosk\\__init__.py:182\u001b[0m, in \u001b[0;36mKaldiRecognizer.AcceptWaveform\u001b[1;34m(self, data)\u001b[0m\n\u001b[0;32m    181\u001b[0m \u001b[38;5;28;01mdef\u001b[39;00m \u001b[38;5;21mAcceptWaveform\u001b[39m(\u001b[38;5;28mself\u001b[39m, data):\n\u001b[1;32m--> 182\u001b[0m     res \u001b[38;5;241m=\u001b[39m \u001b[43m_c\u001b[49m\u001b[38;5;241;43m.\u001b[39;49m\u001b[43mvosk_recognizer_accept_waveform\u001b[49m\u001b[43m(\u001b[49m\u001b[38;5;28;43mself\u001b[39;49m\u001b[38;5;241;43m.\u001b[39;49m\u001b[43m_handle\u001b[49m\u001b[43m,\u001b[49m\u001b[43m \u001b[49m\u001b[43mdata\u001b[49m\u001b[43m,\u001b[49m\u001b[43m \u001b[49m\u001b[38;5;28;43mlen\u001b[39;49m\u001b[43m(\u001b[49m\u001b[43mdata\u001b[49m\u001b[43m)\u001b[49m\u001b[43m)\u001b[49m\n\u001b[0;32m    183\u001b[0m     \u001b[38;5;28;01mif\u001b[39;00m res \u001b[38;5;241m<\u001b[39m \u001b[38;5;241m0\u001b[39m:\n\u001b[0;32m    184\u001b[0m         \u001b[38;5;28;01mraise\u001b[39;00m \u001b[38;5;167;01mException\u001b[39;00m(\u001b[38;5;124m\"\u001b[39m\u001b[38;5;124mFailed to process waveform\u001b[39m\u001b[38;5;124m\"\u001b[39m)\n",
      "\u001b[1;31mKeyboardInterrupt\u001b[0m: "
     ]
    }
   ],
   "source": [
    "print(\"Start Speaking...\")\n",
    "\n",
    "while True: \n",
    "    data  = stream.read(CHUNK)\n",
    "\n",
    "    if recognizer.AcceptWaveform(data):\n",
    "        result = recognizer.Result()\n",
    "        text = json.loads(result).get('text' , '')\n",
    "        print(f\"Text : {text}\")\n",
    "\n",
    "\n",
    "def transcribe_wav2vec(audio_chunk):\n",
    "    input_values = processor(audio_chunk, return_tensors=\"pt\", sampling_rate=RATE).input_values\n",
    "    logits = model(input_values).logits\n",
    "    predicted_ids = torch.argmax(logits, dim=-1)\n",
    "    transcription = processor.batch_decode(predicted_ids)\n",
    "    return transcription[0]\n",
    "\n",
    "while True:\n",
    "    data = stream.read(CHUNK)\n",
    "    audio_chunk = np.frombuffer(data, dtype=np.int16).astype(np.float32) / 32768.0\n",
    "    text = transcribe_wav2vec(audio_chunk)  \n",
    "    print(f\"Text: {text}\")\n"
   ]
  },
  {
   "cell_type": "code",
   "execution_count": null,
   "metadata": {},
   "outputs": [],
   "source": []
  }
 ],
 "metadata": {
  "kernelspec": {
   "display_name": "Python 3",
   "language": "python",
   "name": "python3"
  },
  "language_info": {
   "codemirror_mode": {
    "name": "ipython",
    "version": 3
   },
   "file_extension": ".py",
   "mimetype": "text/x-python",
   "name": "python",
   "nbconvert_exporter": "python",
   "pygments_lexer": "ipython3",
   "version": "3.12.7"
  }
 },
 "nbformat": 4,
 "nbformat_minor": 2
}
